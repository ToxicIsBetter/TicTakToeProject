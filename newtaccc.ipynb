{
 "cells": [
  {
   "cell_type": "code",
   "execution_count": null,
   "metadata": {},
   "outputs": [],
   "source": [
    "def check(Arry):\n",
    "    for row in Arry:\n",
    "        if row[0] == row[1] == row[2]:\n",
    "            return row[0]\n",
    "    for col in range(3):\n",
    "        if Arry[0][col] == Arry[1][col] == Arry[2][col]:\n",
    "            return Arry[0][col]\n",
    "    if Arry[0][0] == Arry[1][1] == Arry[2][2]:\n",
    "        return Arry[0][0]\n",
    "    if Arry[0][2] == Arry[1][1] == Arry[2][0]:\n",
    "        return Arry[0][2]\n",
    "    return None"
   ]
  },
  {
   "cell_type": "code",
   "execution_count": null,
   "metadata": {},
   "outputs": [],
   "source": [
    "def is_draw(Arry):\n",
    "    return all(cell in [\"X\", \"O\"] for row in Arry for cell in row)"
   ]
  },
  {
   "cell_type": "code",
   "execution_count": null,
   "metadata": {},
   "outputs": [],
   "source": [
    "def printArry(Arry):\n",
    "    for row in Arry:\n",
    "        print(\" \".join(row))\n",
    "    print()"
   ]
  },
  {
   "cell_type": "code",
   "execution_count": null,
   "metadata": {},
   "outputs": [],
   "source": [
    "def add(Arry, position, marker):\n",
    "    mapping = {\"a\": (0, 0), \"b\": (0, 1), \"c\": (0, 2),\n",
    "               \"d\": (1, 0), \"e\": (1, 1), \"f\": (1, 2),\n",
    "               \"g\": (2, 0), \"h\": (2, 1), \"i\": (2, 2)}\n",
    "    if position in mapping:\n",
    "        r, c = mapping[position]\n",
    "        if Arry[r][c] not in [\"X\", \"O\"]:\n",
    "            Arry[r][c] = marker\n",
    "            return True\n",
    "    return False"
   ]
  },
  {
   "cell_type": "code",
   "execution_count": null,
   "metadata": {},
   "outputs": [],
   "source": [
    "print(\"Welcome to Tic-Tac-Toe\")\n",
    "Arry = [[\"a\", \"b\", \"c\"], [\"d\", \"e\", \"f\"], [\"g\", \"h\", \"i\"]]\n",
    "printArry(Arry)\n",
    "\n",
    "p1 = input(\"Player 1, choose your marker (X or O): \").upper()\n",
    "while(p1!= 'X' and p1!= 'O'):\n",
    "    p1 = input(\"Invalid Selection! Player 1, choose your marker (X or O): \").upper()\n",
    "p2 = \"O\" if p1 == \"X\" else \"X\"\n",
    "\n",
    "while True:\n",
    "    # Player 1's turn\n",
    "    print(\"Player 1's turn (X)\")\n",
    "    position = input(\"Enter the location to place your marker: \").lower()\n",
    "    if add(Arry, position, p1):\n",
    "        printArry(Arry)\n",
    "        winner = check(Arry)\n",
    "        if winner:\n",
    "            print(f\"{winner} Wins!\")\n",
    "            break\n",
    "        if is_draw(Arry):\n",
    "            print(\"It's a draw!\")\n",
    "            break\n",
    "    else:\n",
    "        print(\"Invalid move. Try again.\")\n",
    "\n",
    "    # Player 2's turn\n",
    "    print(\"Player 2's turn (O)\")\n",
    "    position = input(\"Enter the location to place your marker: \").lower()\n",
    "    if add(Arry, position, p2):\n",
    "        printArry(Arry)\n",
    "        winner = check(Arry)\n",
    "        if winner:\n",
    "            print(f\"{winner} Wins!\")\n",
    "            break\n",
    "        if is_draw(Arry):\n",
    "            print(\"It's a draw!\")\n",
    "            break\n",
    "    else:\n",
    "        print(\"Invalid move. Try again.\")"
   ]
  }
 ],
 "metadata": {
  "kernelspec": {
   "display_name": "Python 3",
   "language": "python",
   "name": "python3"
  },
  "language_info": {
   "codemirror_mode": {
    "name": "ipython",
    "version": 3
   },
   "file_extension": ".py",
   "mimetype": "text/x-python",
   "name": "python",
   "nbconvert_exporter": "python",
   "pygments_lexer": "ipython3",
   "version": "3.11.9"
  }
 },
 "nbformat": 4,
 "nbformat_minor": 2
}
